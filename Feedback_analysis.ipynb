{
  "nbformat": 4,
  "nbformat_minor": 0,
  "metadata": {
    "colab": {
      "name": "Feedback analysis",
      "provenance": [],
      "collapsed_sections": []
    },
    "kernelspec": {
      "name": "python3",
      "display_name": "Python 3"
    }
  },
  "cells": [
    {
      "cell_type": "code",
      "metadata": {
        "id": "bfrhM0uC9TB4"
      },
      "source": [
        "\n",
        "import time #timer between comment extractions\n",
        "import os #accessing, saving and storing files\n",
        "import csv #spreadsheet file manipulation"
      ],
      "execution_count": null,
      "outputs": []
    },
    {
      "cell_type": "code",
      "source": [
        ""
      ],
      "metadata": {
        "id": "d_ALvUSD7isz"
      },
      "execution_count": null,
      "outputs": []
    },
    {
      "cell_type": "markdown",
      "metadata": {
        "id": "rHInuTOYTs_C"
      },
      "source": [
        "# Clean text\n",
        "\n",
        "The comments are structured but it's currently too \"dirty\" for analysis. So let's tidy it up."
      ]
    },
    {
      "cell_type": "code",
      "metadata": {
        "id": "fPWWsmzjjg4-"
      },
      "source": [
        "import pandas as pd #pandas is the main python module for analysing data structured in spreadsheet format\n",
        "import matplotlib.pyplot as plt #matplotlib is good for generating graphs in your notebook\n",
        "import re #re allows you to manipulate strings with regrex style manipulation\n",
        "import string #string manipulation"
      ],
      "execution_count": null,
      "outputs": []
    },
    {
      "cell_type": "markdown",
      "metadata": {
        "id": "yAJ6xzhlUPuc"
      },
      "source": [
        "Copy the path of the _comments version of the data and read it in through the pandas.read_csv function.\n",
        "\n",
        "Then we check if all is in order."
      ]
    },
    {
      "cell_type": "code",
      "metadata": {
        "id": "VtWLJ3lQkHLx",
        "colab": {
          "base_uri": "https://localhost:8080/",
          "height": 206
        },
        "outputId": "a3709799-0a35-4dfb-9e76-1e6abca7703f"
      },
      "source": [
        "reviews = pd.read_csv(\"/content/feedback.csv\", encoding=\"utf-8\") \n",
        "reviews.head() #Check csv is correctly formatted"
      ],
      "execution_count": null,
      "outputs": [
        {
          "output_type": "execute_result",
          "data": {
            "text/plain": [
              "     Name             Email Carcolour wheeltype  customised experience  \\\n",
              "0  khushi  khushi@gmail.com     black     type2           5       Good   \n",
              "1      kj      kj@gmail.com       red     type1           4       Good   \n",
              "2  khushi  khushi@gmail.com     black   default           5       good   \n",
              "3   Ameya    Amey@gmail.com      blue   default           5       good   \n",
              "4     abc     abc@gmail.com     black     type3           3        bad   \n",
              "\n",
              "                                            feedback  \n",
              "0  Nice experience. I liked the black colour of c...  \n",
              "1  Good user experience. I would like to have a r...  \n",
              "2  New and exciting user experience. I liked the ...  \n",
              "3  Excellent user experience. I would like to hav...  \n",
              "4  Nice experience. I liked the black colour of c...  "
            ],
            "text/html": [
              "\n",
              "  <div id=\"df-3c15d8f6-4f52-49c3-a352-ab08916d199e\">\n",
              "    <div class=\"colab-df-container\">\n",
              "      <div>\n",
              "<style scoped>\n",
              "    .dataframe tbody tr th:only-of-type {\n",
              "        vertical-align: middle;\n",
              "    }\n",
              "\n",
              "    .dataframe tbody tr th {\n",
              "        vertical-align: top;\n",
              "    }\n",
              "\n",
              "    .dataframe thead th {\n",
              "        text-align: right;\n",
              "    }\n",
              "</style>\n",
              "<table border=\"1\" class=\"dataframe\">\n",
              "  <thead>\n",
              "    <tr style=\"text-align: right;\">\n",
              "      <th></th>\n",
              "      <th>Name</th>\n",
              "      <th>Email</th>\n",
              "      <th>Carcolour</th>\n",
              "      <th>wheeltype</th>\n",
              "      <th>customised</th>\n",
              "      <th>experience</th>\n",
              "      <th>feedback</th>\n",
              "    </tr>\n",
              "  </thead>\n",
              "  <tbody>\n",
              "    <tr>\n",
              "      <th>0</th>\n",
              "      <td>khushi</td>\n",
              "      <td>khushi@gmail.com</td>\n",
              "      <td>black</td>\n",
              "      <td>type2</td>\n",
              "      <td>5</td>\n",
              "      <td>Good</td>\n",
              "      <td>Nice experience. I liked the black colour of c...</td>\n",
              "    </tr>\n",
              "    <tr>\n",
              "      <th>1</th>\n",
              "      <td>kj</td>\n",
              "      <td>kj@gmail.com</td>\n",
              "      <td>red</td>\n",
              "      <td>type1</td>\n",
              "      <td>4</td>\n",
              "      <td>Good</td>\n",
              "      <td>Good user experience. I would like to have a r...</td>\n",
              "    </tr>\n",
              "    <tr>\n",
              "      <th>2</th>\n",
              "      <td>khushi</td>\n",
              "      <td>khushi@gmail.com</td>\n",
              "      <td>black</td>\n",
              "      <td>default</td>\n",
              "      <td>5</td>\n",
              "      <td>good</td>\n",
              "      <td>New and exciting user experience. I liked the ...</td>\n",
              "    </tr>\n",
              "    <tr>\n",
              "      <th>3</th>\n",
              "      <td>Ameya</td>\n",
              "      <td>Amey@gmail.com</td>\n",
              "      <td>blue</td>\n",
              "      <td>default</td>\n",
              "      <td>5</td>\n",
              "      <td>good</td>\n",
              "      <td>Excellent user experience. I would like to hav...</td>\n",
              "    </tr>\n",
              "    <tr>\n",
              "      <th>4</th>\n",
              "      <td>abc</td>\n",
              "      <td>abc@gmail.com</td>\n",
              "      <td>black</td>\n",
              "      <td>type3</td>\n",
              "      <td>3</td>\n",
              "      <td>bad</td>\n",
              "      <td>Nice experience. I liked the black colour of c...</td>\n",
              "    </tr>\n",
              "  </tbody>\n",
              "</table>\n",
              "</div>\n",
              "      <button class=\"colab-df-convert\" onclick=\"convertToInteractive('df-3c15d8f6-4f52-49c3-a352-ab08916d199e')\"\n",
              "              title=\"Convert this dataframe to an interactive table.\"\n",
              "              style=\"display:none;\">\n",
              "        \n",
              "  <svg xmlns=\"http://www.w3.org/2000/svg\" height=\"24px\"viewBox=\"0 0 24 24\"\n",
              "       width=\"24px\">\n",
              "    <path d=\"M0 0h24v24H0V0z\" fill=\"none\"/>\n",
              "    <path d=\"M18.56 5.44l.94 2.06.94-2.06 2.06-.94-2.06-.94-.94-2.06-.94 2.06-2.06.94zm-11 1L8.5 8.5l.94-2.06 2.06-.94-2.06-.94L8.5 2.5l-.94 2.06-2.06.94zm10 10l.94 2.06.94-2.06 2.06-.94-2.06-.94-.94-2.06-.94 2.06-2.06.94z\"/><path d=\"M17.41 7.96l-1.37-1.37c-.4-.4-.92-.59-1.43-.59-.52 0-1.04.2-1.43.59L10.3 9.45l-7.72 7.72c-.78.78-.78 2.05 0 2.83L4 21.41c.39.39.9.59 1.41.59.51 0 1.02-.2 1.41-.59l7.78-7.78 2.81-2.81c.8-.78.8-2.07 0-2.86zM5.41 20L4 18.59l7.72-7.72 1.47 1.35L5.41 20z\"/>\n",
              "  </svg>\n",
              "      </button>\n",
              "      \n",
              "  <style>\n",
              "    .colab-df-container {\n",
              "      display:flex;\n",
              "      flex-wrap:wrap;\n",
              "      gap: 12px;\n",
              "    }\n",
              "\n",
              "    .colab-df-convert {\n",
              "      background-color: #E8F0FE;\n",
              "      border: none;\n",
              "      border-radius: 50%;\n",
              "      cursor: pointer;\n",
              "      display: none;\n",
              "      fill: #1967D2;\n",
              "      height: 32px;\n",
              "      padding: 0 0 0 0;\n",
              "      width: 32px;\n",
              "    }\n",
              "\n",
              "    .colab-df-convert:hover {\n",
              "      background-color: #E2EBFA;\n",
              "      box-shadow: 0px 1px 2px rgba(60, 64, 67, 0.3), 0px 1px 3px 1px rgba(60, 64, 67, 0.15);\n",
              "      fill: #174EA6;\n",
              "    }\n",
              "\n",
              "    [theme=dark] .colab-df-convert {\n",
              "      background-color: #3B4455;\n",
              "      fill: #D2E3FC;\n",
              "    }\n",
              "\n",
              "    [theme=dark] .colab-df-convert:hover {\n",
              "      background-color: #434B5C;\n",
              "      box-shadow: 0px 1px 3px 1px rgba(0, 0, 0, 0.15);\n",
              "      filter: drop-shadow(0px 1px 2px rgba(0, 0, 0, 0.3));\n",
              "      fill: #FFFFFF;\n",
              "    }\n",
              "  </style>\n",
              "\n",
              "      <script>\n",
              "        const buttonEl =\n",
              "          document.querySelector('#df-3c15d8f6-4f52-49c3-a352-ab08916d199e button.colab-df-convert');\n",
              "        buttonEl.style.display =\n",
              "          google.colab.kernel.accessAllowed ? 'block' : 'none';\n",
              "\n",
              "        async function convertToInteractive(key) {\n",
              "          const element = document.querySelector('#df-3c15d8f6-4f52-49c3-a352-ab08916d199e');\n",
              "          const dataTable =\n",
              "            await google.colab.kernel.invokeFunction('convertToInteractive',\n",
              "                                                     [key], {});\n",
              "          if (!dataTable) return;\n",
              "\n",
              "          const docLinkHtml = 'Like what you see? Visit the ' +\n",
              "            '<a target=\"_blank\" href=https://colab.research.google.com/notebooks/data_table.ipynb>data table notebook</a>'\n",
              "            + ' to learn more about interactive tables.';\n",
              "          element.innerHTML = '';\n",
              "          dataTable['output_type'] = 'display_data';\n",
              "          await google.colab.output.renderOutput(dataTable, element);\n",
              "          const docLink = document.createElement('div');\n",
              "          docLink.innerHTML = docLinkHtml;\n",
              "          element.appendChild(docLink);\n",
              "        }\n",
              "      </script>\n",
              "    </div>\n",
              "  </div>\n",
              "  "
            ]
          },
          "metadata": {},
          "execution_count": 19
        }
      ]
    },
    {
      "cell_type": "code",
      "source": [
        "data = reviews.filter(['feedback'])\n",
        "data.head()"
      ],
      "metadata": {
        "id": "mgDsTZ71y_lM",
        "outputId": "699ec4b2-72f0-4650-df9e-e779930ce82f",
        "colab": {
          "base_uri": "https://localhost:8080/",
          "height": 206
        }
      },
      "execution_count": null,
      "outputs": [
        {
          "output_type": "execute_result",
          "data": {
            "text/plain": [
              "                                            feedback\n",
              "0  Nice experience. I liked the black colour of c...\n",
              "1  Good user experience. I would like to have a r...\n",
              "2  New and exciting user experience. I liked the ...\n",
              "3  Excellent user experience. I would like to hav...\n",
              "4  Nice experience. I liked the black colour of c..."
            ],
            "text/html": [
              "\n",
              "  <div id=\"df-21c3ba3e-b439-4a3a-b0e8-2794f5b5a634\">\n",
              "    <div class=\"colab-df-container\">\n",
              "      <div>\n",
              "<style scoped>\n",
              "    .dataframe tbody tr th:only-of-type {\n",
              "        vertical-align: middle;\n",
              "    }\n",
              "\n",
              "    .dataframe tbody tr th {\n",
              "        vertical-align: top;\n",
              "    }\n",
              "\n",
              "    .dataframe thead th {\n",
              "        text-align: right;\n",
              "    }\n",
              "</style>\n",
              "<table border=\"1\" class=\"dataframe\">\n",
              "  <thead>\n",
              "    <tr style=\"text-align: right;\">\n",
              "      <th></th>\n",
              "      <th>feedback</th>\n",
              "    </tr>\n",
              "  </thead>\n",
              "  <tbody>\n",
              "    <tr>\n",
              "      <th>0</th>\n",
              "      <td>Nice experience. I liked the black colour of c...</td>\n",
              "    </tr>\n",
              "    <tr>\n",
              "      <th>1</th>\n",
              "      <td>Good user experience. I would like to have a r...</td>\n",
              "    </tr>\n",
              "    <tr>\n",
              "      <th>2</th>\n",
              "      <td>New and exciting user experience. I liked the ...</td>\n",
              "    </tr>\n",
              "    <tr>\n",
              "      <th>3</th>\n",
              "      <td>Excellent user experience. I would like to hav...</td>\n",
              "    </tr>\n",
              "    <tr>\n",
              "      <th>4</th>\n",
              "      <td>Nice experience. I liked the black colour of c...</td>\n",
              "    </tr>\n",
              "  </tbody>\n",
              "</table>\n",
              "</div>\n",
              "      <button class=\"colab-df-convert\" onclick=\"convertToInteractive('df-21c3ba3e-b439-4a3a-b0e8-2794f5b5a634')\"\n",
              "              title=\"Convert this dataframe to an interactive table.\"\n",
              "              style=\"display:none;\">\n",
              "        \n",
              "  <svg xmlns=\"http://www.w3.org/2000/svg\" height=\"24px\"viewBox=\"0 0 24 24\"\n",
              "       width=\"24px\">\n",
              "    <path d=\"M0 0h24v24H0V0z\" fill=\"none\"/>\n",
              "    <path d=\"M18.56 5.44l.94 2.06.94-2.06 2.06-.94-2.06-.94-.94-2.06-.94 2.06-2.06.94zm-11 1L8.5 8.5l.94-2.06 2.06-.94-2.06-.94L8.5 2.5l-.94 2.06-2.06.94zm10 10l.94 2.06.94-2.06 2.06-.94-2.06-.94-.94-2.06-.94 2.06-2.06.94z\"/><path d=\"M17.41 7.96l-1.37-1.37c-.4-.4-.92-.59-1.43-.59-.52 0-1.04.2-1.43.59L10.3 9.45l-7.72 7.72c-.78.78-.78 2.05 0 2.83L4 21.41c.39.39.9.59 1.41.59.51 0 1.02-.2 1.41-.59l7.78-7.78 2.81-2.81c.8-.78.8-2.07 0-2.86zM5.41 20L4 18.59l7.72-7.72 1.47 1.35L5.41 20z\"/>\n",
              "  </svg>\n",
              "      </button>\n",
              "      \n",
              "  <style>\n",
              "    .colab-df-container {\n",
              "      display:flex;\n",
              "      flex-wrap:wrap;\n",
              "      gap: 12px;\n",
              "    }\n",
              "\n",
              "    .colab-df-convert {\n",
              "      background-color: #E8F0FE;\n",
              "      border: none;\n",
              "      border-radius: 50%;\n",
              "      cursor: pointer;\n",
              "      display: none;\n",
              "      fill: #1967D2;\n",
              "      height: 32px;\n",
              "      padding: 0 0 0 0;\n",
              "      width: 32px;\n",
              "    }\n",
              "\n",
              "    .colab-df-convert:hover {\n",
              "      background-color: #E2EBFA;\n",
              "      box-shadow: 0px 1px 2px rgba(60, 64, 67, 0.3), 0px 1px 3px 1px rgba(60, 64, 67, 0.15);\n",
              "      fill: #174EA6;\n",
              "    }\n",
              "\n",
              "    [theme=dark] .colab-df-convert {\n",
              "      background-color: #3B4455;\n",
              "      fill: #D2E3FC;\n",
              "    }\n",
              "\n",
              "    [theme=dark] .colab-df-convert:hover {\n",
              "      background-color: #434B5C;\n",
              "      box-shadow: 0px 1px 3px 1px rgba(0, 0, 0, 0.15);\n",
              "      filter: drop-shadow(0px 1px 2px rgba(0, 0, 0, 0.3));\n",
              "      fill: #FFFFFF;\n",
              "    }\n",
              "  </style>\n",
              "\n",
              "      <script>\n",
              "        const buttonEl =\n",
              "          document.querySelector('#df-21c3ba3e-b439-4a3a-b0e8-2794f5b5a634 button.colab-df-convert');\n",
              "        buttonEl.style.display =\n",
              "          google.colab.kernel.accessAllowed ? 'block' : 'none';\n",
              "\n",
              "        async function convertToInteractive(key) {\n",
              "          const element = document.querySelector('#df-21c3ba3e-b439-4a3a-b0e8-2794f5b5a634');\n",
              "          const dataTable =\n",
              "            await google.colab.kernel.invokeFunction('convertToInteractive',\n",
              "                                                     [key], {});\n",
              "          if (!dataTable) return;\n",
              "\n",
              "          const docLinkHtml = 'Like what you see? Visit the ' +\n",
              "            '<a target=\"_blank\" href=https://colab.research.google.com/notebooks/data_table.ipynb>data table notebook</a>'\n",
              "            + ' to learn more about interactive tables.';\n",
              "          element.innerHTML = '';\n",
              "          dataTable['output_type'] = 'display_data';\n",
              "          await google.colab.output.renderOutput(dataTable, element);\n",
              "          const docLink = document.createElement('div');\n",
              "          docLink.innerHTML = docLinkHtml;\n",
              "          element.appendChild(docLink);\n",
              "        }\n",
              "      </script>\n",
              "    </div>\n",
              "  </div>\n",
              "  "
            ]
          },
          "metadata": {},
          "execution_count": 20
        }
      ]
    },
    {
      "cell_type": "code",
      "metadata": {
        "id": "RUzMZ_OonOue",
        "colab": {
          "base_uri": "https://localhost:8080/"
        },
        "outputId": "1b372ef1-e8bf-4159-a95c-7b3abbf52737"
      },
      "source": [
        "print(\"File has {0} rows, {1} columns\".format(data.shape[0],data.shape[1]))\n",
        "print(\"Columns within file \" + str(data.columns))"
      ],
      "execution_count": null,
      "outputs": [
        {
          "output_type": "stream",
          "name": "stdout",
          "text": [
            "File has 59 rows, 1 columns\n",
            "Columns within file Index(['feedback'], dtype='object')\n"
          ]
        }
      ]
    },
    {
      "cell_type": "code",
      "metadata": {
        "id": "jSBW2cFinkUC",
        "colab": {
          "base_uri": "https://localhost:8080/",
          "height": 206
        },
        "outputId": "626c1458-ca04-4a42-8a1b-7d2ce06ac83f"
      },
      "source": [
        "#Create a function that removes punctuations and turns all text to lowercase then apply it to every row\n",
        "def clean_text_round1(text):\n",
        "    '''Make text lowercase, remove text in square brackets, remove punctuation and remove words containing numbers.'''\n",
        "    text = text.lower()\n",
        "    text = re.sub('\\[.*?\\]', '', text)\n",
        "    text = re.sub('[%s]' % re.escape(string.punctuation), '', text)\n",
        "    text = re.sub('\\w*\\d\\w*', '', text)\n",
        "    return text\n",
        "\n",
        "\n",
        "#This allows you apply functions to each row in a column\n",
        "round1 = lambda x: clean_text_round1(x) \n",
        "\n",
        "#Create a new column with the clean text data\n",
        "data['clean_text'] = data['feedback'].apply(round1)\n",
        "data.head()"
      ],
      "execution_count": null,
      "outputs": [
        {
          "output_type": "execute_result",
          "data": {
            "text/plain": [
              "                                            feedback  \\\n",
              "0  Nice experience. I liked the black colour of c...   \n",
              "1  Good user experience. I would like to have a r...   \n",
              "2  New and exciting user experience. I liked the ...   \n",
              "3  Excellent user experience. I would like to hav...   \n",
              "4  Nice experience. I liked the black colour of c...   \n",
              "\n",
              "                                          clean_text  \n",
              "0  nice experience i liked the black colour of ca...  \n",
              "1  good user experience i would like to have a re...  \n",
              "2  new and exciting user experience i liked the b...  \n",
              "3  excellent user experience i would like to have...  \n",
              "4  nice experience i liked the black colour of ca...  "
            ],
            "text/html": [
              "\n",
              "  <div id=\"df-ff2f1ffb-d9f7-49f8-bbcf-5d29434639a3\">\n",
              "    <div class=\"colab-df-container\">\n",
              "      <div>\n",
              "<style scoped>\n",
              "    .dataframe tbody tr th:only-of-type {\n",
              "        vertical-align: middle;\n",
              "    }\n",
              "\n",
              "    .dataframe tbody tr th {\n",
              "        vertical-align: top;\n",
              "    }\n",
              "\n",
              "    .dataframe thead th {\n",
              "        text-align: right;\n",
              "    }\n",
              "</style>\n",
              "<table border=\"1\" class=\"dataframe\">\n",
              "  <thead>\n",
              "    <tr style=\"text-align: right;\">\n",
              "      <th></th>\n",
              "      <th>feedback</th>\n",
              "      <th>clean_text</th>\n",
              "    </tr>\n",
              "  </thead>\n",
              "  <tbody>\n",
              "    <tr>\n",
              "      <th>0</th>\n",
              "      <td>Nice experience. I liked the black colour of c...</td>\n",
              "      <td>nice experience i liked the black colour of ca...</td>\n",
              "    </tr>\n",
              "    <tr>\n",
              "      <th>1</th>\n",
              "      <td>Good user experience. I would like to have a r...</td>\n",
              "      <td>good user experience i would like to have a re...</td>\n",
              "    </tr>\n",
              "    <tr>\n",
              "      <th>2</th>\n",
              "      <td>New and exciting user experience. I liked the ...</td>\n",
              "      <td>new and exciting user experience i liked the b...</td>\n",
              "    </tr>\n",
              "    <tr>\n",
              "      <th>3</th>\n",
              "      <td>Excellent user experience. I would like to hav...</td>\n",
              "      <td>excellent user experience i would like to have...</td>\n",
              "    </tr>\n",
              "    <tr>\n",
              "      <th>4</th>\n",
              "      <td>Nice experience. I liked the black colour of c...</td>\n",
              "      <td>nice experience i liked the black colour of ca...</td>\n",
              "    </tr>\n",
              "  </tbody>\n",
              "</table>\n",
              "</div>\n",
              "      <button class=\"colab-df-convert\" onclick=\"convertToInteractive('df-ff2f1ffb-d9f7-49f8-bbcf-5d29434639a3')\"\n",
              "              title=\"Convert this dataframe to an interactive table.\"\n",
              "              style=\"display:none;\">\n",
              "        \n",
              "  <svg xmlns=\"http://www.w3.org/2000/svg\" height=\"24px\"viewBox=\"0 0 24 24\"\n",
              "       width=\"24px\">\n",
              "    <path d=\"M0 0h24v24H0V0z\" fill=\"none\"/>\n",
              "    <path d=\"M18.56 5.44l.94 2.06.94-2.06 2.06-.94-2.06-.94-.94-2.06-.94 2.06-2.06.94zm-11 1L8.5 8.5l.94-2.06 2.06-.94-2.06-.94L8.5 2.5l-.94 2.06-2.06.94zm10 10l.94 2.06.94-2.06 2.06-.94-2.06-.94-.94-2.06-.94 2.06-2.06.94z\"/><path d=\"M17.41 7.96l-1.37-1.37c-.4-.4-.92-.59-1.43-.59-.52 0-1.04.2-1.43.59L10.3 9.45l-7.72 7.72c-.78.78-.78 2.05 0 2.83L4 21.41c.39.39.9.59 1.41.59.51 0 1.02-.2 1.41-.59l7.78-7.78 2.81-2.81c.8-.78.8-2.07 0-2.86zM5.41 20L4 18.59l7.72-7.72 1.47 1.35L5.41 20z\"/>\n",
              "  </svg>\n",
              "      </button>\n",
              "      \n",
              "  <style>\n",
              "    .colab-df-container {\n",
              "      display:flex;\n",
              "      flex-wrap:wrap;\n",
              "      gap: 12px;\n",
              "    }\n",
              "\n",
              "    .colab-df-convert {\n",
              "      background-color: #E8F0FE;\n",
              "      border: none;\n",
              "      border-radius: 50%;\n",
              "      cursor: pointer;\n",
              "      display: none;\n",
              "      fill: #1967D2;\n",
              "      height: 32px;\n",
              "      padding: 0 0 0 0;\n",
              "      width: 32px;\n",
              "    }\n",
              "\n",
              "    .colab-df-convert:hover {\n",
              "      background-color: #E2EBFA;\n",
              "      box-shadow: 0px 1px 2px rgba(60, 64, 67, 0.3), 0px 1px 3px 1px rgba(60, 64, 67, 0.15);\n",
              "      fill: #174EA6;\n",
              "    }\n",
              "\n",
              "    [theme=dark] .colab-df-convert {\n",
              "      background-color: #3B4455;\n",
              "      fill: #D2E3FC;\n",
              "    }\n",
              "\n",
              "    [theme=dark] .colab-df-convert:hover {\n",
              "      background-color: #434B5C;\n",
              "      box-shadow: 0px 1px 3px 1px rgba(0, 0, 0, 0.15);\n",
              "      filter: drop-shadow(0px 1px 2px rgba(0, 0, 0, 0.3));\n",
              "      fill: #FFFFFF;\n",
              "    }\n",
              "  </style>\n",
              "\n",
              "      <script>\n",
              "        const buttonEl =\n",
              "          document.querySelector('#df-ff2f1ffb-d9f7-49f8-bbcf-5d29434639a3 button.colab-df-convert');\n",
              "        buttonEl.style.display =\n",
              "          google.colab.kernel.accessAllowed ? 'block' : 'none';\n",
              "\n",
              "        async function convertToInteractive(key) {\n",
              "          const element = document.querySelector('#df-ff2f1ffb-d9f7-49f8-bbcf-5d29434639a3');\n",
              "          const dataTable =\n",
              "            await google.colab.kernel.invokeFunction('convertToInteractive',\n",
              "                                                     [key], {});\n",
              "          if (!dataTable) return;\n",
              "\n",
              "          const docLinkHtml = 'Like what you see? Visit the ' +\n",
              "            '<a target=\"_blank\" href=https://colab.research.google.com/notebooks/data_table.ipynb>data table notebook</a>'\n",
              "            + ' to learn more about interactive tables.';\n",
              "          element.innerHTML = '';\n",
              "          dataTable['output_type'] = 'display_data';\n",
              "          await google.colab.output.renderOutput(dataTable, element);\n",
              "          const docLink = document.createElement('div');\n",
              "          docLink.innerHTML = docLinkHtml;\n",
              "          element.appendChild(docLink);\n",
              "        }\n",
              "      </script>\n",
              "    </div>\n",
              "  </div>\n",
              "  "
            ]
          },
          "metadata": {},
          "execution_count": 22
        }
      ]
    },
    {
      "cell_type": "markdown",
      "metadata": {
        "id": "2C74snBzVl9r"
      },
      "source": [
        "**Apply stopwords**\n",
        "\n",
        "The second part of cleaning involves removing stopwords (a.k.a filler words that hold little meaning to computers). \n",
        "\n",
        "We will do this by uploading a list of stopwords, applying a function to each row that splits the text into individual words and filtering out the stopwords.\n",
        "\n",
        "We will then be able to pull out most common words within Reddit Thread."
      ]
    },
    {
      "cell_type": "code",
      "metadata": {
        "id": "PcDBpB--V65q",
        "colab": {
          "base_uri": "https://localhost:8080/"
        },
        "outputId": "66539c58-1601-47c1-f0ad-f2a6e2746f32"
      },
      "source": [
        "from collections import Counter #counts most common words\n",
        "\n",
        "#Set up stopwords\n",
        "import nltk\n",
        "from nltk.corpus import stopwords\n",
        "nltk.download('stopwords')\n",
        "stop_words = set(stopwords.words('english')) \n",
        "\n",
        "\n",
        "words = [] #store all words\n",
        "#function that appends every word from each comment into one chunk of text\n",
        "def append(comment):\n",
        "  text = comment.split() #tokenise comment into list of words\n",
        "  for i in text:\n",
        "    words.append(i) #append to bigger word list\n",
        "\n",
        "add_words = lambda x: append(x)\n",
        "data['clean_text'].apply(add_words)\n",
        "\n",
        "print(\"Total number of words across all rows:\")\n",
        "print(len(words))\n",
        "\n",
        "#filter out stopwords\n",
        "filtered = [w for w in words if not w in stop_words] \n",
        "\n",
        "print(\"Total number of words AFTER stopwords removal:\")\n",
        "print(len(filtered))\n"
      ],
      "execution_count": null,
      "outputs": [
        {
          "output_type": "stream",
          "name": "stdout",
          "text": [
            "Total number of words across all rows:\n",
            "1831\n",
            "Total number of words AFTER stopwords removal:\n",
            "1041\n"
          ]
        },
        {
          "output_type": "stream",
          "name": "stderr",
          "text": [
            "[nltk_data] Downloading package stopwords to /root/nltk_data...\n",
            "[nltk_data]   Package stopwords is already up-to-date!\n"
          ]
        }
      ]
    },
    {
      "cell_type": "code",
      "metadata": {
        "id": "Bu1d5FbbYS9K",
        "colab": {
          "base_uri": "https://localhost:8080/"
        },
        "outputId": "12a17e13-1c50-478a-f7fc-58310d8033c6"
      },
      "source": [
        "count_unfiltered = Counter(words).most_common(20)\n",
        "count_words = Counter(filtered).most_common(20) #Comment this out first to see most common words before and after.\n",
        "count_words"
      ],
      "execution_count": null,
      "outputs": [
        {
          "output_type": "execute_result",
          "data": {
            "text/plain": [
              "[('experience', 74),\n",
              " ('would', 64),\n",
              " ('colour', 58),\n",
              " ('wheels', 49),\n",
              " ('car', 46),\n",
              " ('dashboard', 44),\n",
              " ('kept', 43),\n",
              " ('good', 41),\n",
              " ('type', 41),\n",
              " ('like', 40),\n",
              " ('overall', 31),\n",
              " ('really', 25),\n",
              " ('black', 24),\n",
              " ('blue', 24),\n",
              " ('default', 24),\n",
              " ('user', 23),\n",
              " ('liked', 22),\n",
              " ('apart', 22),\n",
              " ('enjoyed', 22),\n",
              " ('definitely', 22)]"
            ]
          },
          "metadata": {},
          "execution_count": 28
        }
      ]
    },
    {
      "cell_type": "markdown",
      "metadata": {
        "id": "lv4wxJONY_IP"
      },
      "source": [
        "**Adjust your stopwords filter for added context**\n",
        "\n",
        "We can see removing stopwords makes a big difference but depending on the context of the body of text, most stopwords fail to capture additional filler words that hold little meaning.\n",
        "\n",
        "Now we will look at the most common top words and add any that might hinder our analysis."
      ]
    },
    {
      "cell_type": "code",
      "metadata": {
        "id": "r9MoRWmni_Ta",
        "colab": {
          "base_uri": "https://localhost:8080/"
        },
        "outputId": "3515bddb-34a7-4688-c684-d33293fad79e"
      },
      "source": [
        "#Stopwords rarely catches all the pointless words so we need to add to it\n",
        "#Pull out up to 30 words\n",
        "counter = 0\n",
        "new_stops =[]\n",
        "for x,y in count_words:\n",
        "  if counter != 30:\n",
        "    new_stops.append(x)\n",
        "    counter+=1\n",
        "\n",
        "print(\"Counter stopped at:\")\n",
        "print(str(counter))\n",
        "\n",
        "print(\"Most common words:\")\n",
        "print(str(new_stops))\n",
        "\n",
        "#Watch out for alternative apostrophies and unidentifiable symbols\n",
        "#Feel free to edit this list by adding your own or copying over from the common words\n",
        "more_stops = [\"it's\",'im','lol',\"i'm\",'got','yeah', \"it’s\",\"i’m\",\"its\", \"also\", \"etc\"]"
      ],
      "execution_count": null,
      "outputs": [
        {
          "output_type": "stream",
          "name": "stdout",
          "text": [
            "Counter stopped at:\n",
            "20\n",
            "Most common words:\n",
            "['experience', 'would', 'colour', 'wheels', 'car', 'dashboard', 'kept', 'good', 'type', 'like', 'overall', 'really', 'black', 'blue', 'default', 'user', 'liked', 'apart', 'enjoyed', 'definitely']\n"
          ]
        }
      ]
    },
    {
      "cell_type": "code",
      "metadata": {
        "id": "7RaMZ-ypKozQ",
        "colab": {
          "base_uri": "https://localhost:8080/"
        },
        "outputId": "14255a02-5d05-4538-e51b-fab79c51800d"
      },
      "source": [
        "print(\"Current no. of stop words\")\n",
        "print(len(stop_words))\n",
        "for i in more_stops: #Depending on list of stop words you're using, loop through and add\n",
        "  stop_words.add(i) #stop_words is a set, so you we use set.add() instead of list.append()\n",
        "\n",
        "print(\"Current no. of stop words after additions\")\n",
        "print(len(stop_words))\n",
        "\n",
        "print(\"Total number of words in filtered list:\")\n",
        "print(len(filtered))\n",
        "\n",
        "#filter out stopwords\n",
        "filtered = [w for w in filtered if not w in stop_words] \n",
        "\n",
        "print(\"Total number of words AFTER stopwords removal with additionals added:\")\n",
        "print(len(filtered))\n",
        "\n",
        "if \"it’s\" in filtered:\n",
        "  print(\"It seems stop words hasn't been updated\")\n",
        "\n",
        "count_words = Counter(filtered).most_common(20)\n",
        "count_words"
      ],
      "execution_count": null,
      "outputs": [
        {
          "output_type": "stream",
          "name": "stdout",
          "text": [
            "Current no. of stop words\n",
            "179\n",
            "Current no. of stop words after additions\n",
            "188\n",
            "Total number of words in filtered list:\n",
            "1041\n",
            "Total number of words AFTER stopwords removal with additionals added:\n",
            "1003\n"
          ]
        },
        {
          "output_type": "execute_result",
          "data": {
            "text/plain": [
              "[('experience', 74),\n",
              " ('would', 64),\n",
              " ('colour', 58),\n",
              " ('wheels', 49),\n",
              " ('car', 46),\n",
              " ('dashboard', 44),\n",
              " ('kept', 43),\n",
              " ('good', 41),\n",
              " ('type', 41),\n",
              " ('like', 40),\n",
              " ('overall', 31),\n",
              " ('really', 25),\n",
              " ('black', 24),\n",
              " ('blue', 24),\n",
              " ('default', 24),\n",
              " ('user', 23),\n",
              " ('liked', 22),\n",
              " ('apart', 22),\n",
              " ('enjoyed', 22),\n",
              " ('definitely', 22)]"
            ]
          },
          "metadata": {},
          "execution_count": 30
        }
      ]
    },
    {
      "cell_type": "markdown",
      "metadata": {
        "id": "HiuehEAkfY2S"
      },
      "source": [
        "# Common Words Analysis\n",
        "\n",
        "Popularity of single words is okay but I feel a lot of times word pairs are a lot more informative on what is being discussed.\n",
        "\n",
        "Let's look at most popular pairs of words.\n"
      ]
    },
    {
      "cell_type": "code",
      "metadata": {
        "id": "Dg_7Dwx7cP6Z",
        "colab": {
          "base_uri": "https://localhost:8080/"
        },
        "outputId": "18817bf3-4775-4f29-abca-47c1d31cbca9"
      },
      "source": [
        "import itertools\n",
        "import collections\n",
        "#https://stackoverflow.com/questions/54308997/efficient-python-for-word-pair-co-occurrence-counting\n",
        "\n",
        "def pairwise(iterable):\n",
        "    \"\"\"s -> (s0,s1), (s1,s2), (s2, s3), ...\"\"\"\n",
        "    a, b = itertools.tee(iterable)\n",
        "    next(b, None)\n",
        "    return ((a, b) if a < b else (b, a) for a, b in zip(a, b))\n",
        "\n",
        "collections.Counter(pairwise(filtered)).most_common(30)"
      ],
      "execution_count": null,
      "outputs": [
        {
          "output_type": "execute_result",
          "data": {
            "text/plain": [
              "[(('dashboard', 'kept'), 43),\n",
              " (('experience', 'would'), 39),\n",
              " (('car', 'colour'), 27),\n",
              " (('blue', 'colour'), 24),\n",
              " (('experience', 'overall'), 24),\n",
              " (('type', 'wheels'), 24),\n",
              " (('dashboard', 'wheels'), 23),\n",
              " (('experience', 'user'), 23),\n",
              " (('default', 'wheels'), 23),\n",
              " (('experience', 'liked'), 22),\n",
              " (('apart', 'really'), 22),\n",
              " (('enjoyed', 'really'), 22),\n",
              " (('enjoyed', 'overall'), 22),\n",
              " (('definitely', 'would'), 22),\n",
              " (('car', 'default'), 22),\n",
              " (('black', 'colour'), 21),\n",
              " (('blue', 'kept'), 21),\n",
              " (('apart', 'colour'), 21),\n",
              " (('definitely', 'reccommend'), 21),\n",
              " (('black', 'liked'), 20),\n",
              " (('like', 'would'), 19),\n",
              " (('prefer', 'would'), 19),\n",
              " (('added', 'features'), 19),\n",
              " (('added', 'like'), 19),\n",
              " (('like', 'sunroof'), 19),\n",
              " (('car', 'type'), 19),\n",
              " (('good', 'wheels'), 18),\n",
              " (('experience', 'nice'), 17),\n",
              " (('dashboard', 'type'), 17),\n",
              " (('good', 'would'), 16)]"
            ]
          },
          "metadata": {},
          "execution_count": 31
        }
      ]
    }
  ]
}